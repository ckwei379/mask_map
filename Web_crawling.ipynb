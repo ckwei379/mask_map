{
  "nbformat": 4,
  "nbformat_minor": 0,
  "metadata": {
    "colab": {
      "provenance": [],
      "authorship_tag": "ABX9TyPcfvzP6CwGQBckMxyEyd/E",
      "include_colab_link": true
    },
    "kernelspec": {
      "name": "python3",
      "display_name": "Python 3"
    },
    "language_info": {
      "name": "python"
    }
  },
  "cells": [
    {
      "cell_type": "markdown",
      "metadata": {
        "id": "view-in-github",
        "colab_type": "text"
      },
      "source": [
        "<a href=\"https://colab.research.google.com/github/ckwei379/mask_map/blob/main/Web_crawling.ipynb\" target=\"_parent\"><img src=\"https://colab.research.google.com/assets/colab-badge.svg\" alt=\"Open In Colab\"/></a>"
      ]
    },
    {
      "cell_type": "code",
      "execution_count": null,
      "metadata": {
        "colab": {
          "base_uri": "https://localhost:8080/"
        },
        "id": "bjzYQoLp15pM",
        "outputId": "2e72d0ea-f2cc-45a0-ec12-25d691aac71e"
      },
      "outputs": [
        {
          "output_type": "stream",
          "name": "stderr",
          "text": [
            "IOPub data rate exceeded.\n",
            "The notebook server will temporarily stop sending output\n",
            "to the client in order to avoid crashing it.\n",
            "To change this limit, set the config variable\n",
            "`--NotebookApp.iopub_data_rate_limit`.\n",
            "\n",
            "Current values:\n",
            "NotebookApp.iopub_data_rate_limit=1000000.0 (bytes/sec)\n",
            "NotebookApp.rate_limit_window=3.0 (secs)\n",
            "\n"
          ]
        }
      ],
      "source": [
        "import requests\n",
        "import json\n",
        "\n",
        "# 利用 requests 對 API 來源發送一個請求\n",
        "url = 'https://raw.githubusercontent.com/kiang/pharmacies/master/json/points.json'\n",
        "response = requests.get(url)\n",
        "\n",
        "# 將請求回應的內容存成一個字串格式\n",
        "d = response.text\n",
        "\n",
        "# 將長得像 json 格式的字串解析成字典或列表\n",
        "data = json.loads(d)\n",
        "\n",
        "print(data)"
      ]
    },
    {
      "cell_type": "code",
      "source": [
        "med_count = {}\n",
        "\n",
        "# 填入欄位名稱\n",
        "for d in data['features']:\n",
        "    county = d['properties']['county']\n",
        "    if county not in med_count:\n",
        "      med_count[county] = 0\n",
        "    else:\n",
        "      med_count[county] += 1\n",
        "\n",
        "print(med_count)"
      ],
      "metadata": {
        "colab": {
          "base_uri": "https://localhost:8080/"
        },
        "id": "A3QXiUuV8zNj",
        "outputId": "bbed3b0a-374e-46ce-8e9e-46a7c5d315b0"
      },
      "execution_count": null,
      "outputs": [
        {
          "output_type": "stream",
          "name": "stdout",
          "text": [
            "{'臺北市': 338, '': 48, '高雄市': 421, '臺中市': 419, '臺南市': 270, '基隆市': 56, '新竹市': 38, '嘉義市': 66, '新北市': 500, '桃園市': 263, '新竹縣': 45, '宜蘭縣': 75, '苗栗縣': 55, '彰化縣': 178, '南投縣': 66, '雲林縣': 128, '嘉義縣': 83, '屏東縣': 139, '澎湖縣': 10, '花蓮縣': 45, '臺東縣': 22, '金門縣': 5, '連江縣': 0}\n"
          ]
        }
      ]
    },
    {
      "cell_type": "code",
      "source": [
        "mask_count = {}\n",
        "\n",
        "# 填入欄位名稱\n",
        "for d in data['features']:\n",
        "    county = d['properties']['county']\n",
        "    mask_adult = d['properties']['mask_adult']\n",
        "    if county not in mask_count:\n",
        "      mask_count[county] = 0\n",
        "    else:\n",
        "      mask_count[county] += mask_adult\n",
        "\n",
        "# 將結果從大到小排列\n",
        "mask_count = dict(sorted(mask_count.items(), key=lambda item: item[1], reverse = True))\n",
        "\n",
        "print(mask_count)"
      ],
      "metadata": {
        "colab": {
          "base_uri": "https://localhost:8080/"
        },
        "id": "soQ6r7rv9SQb",
        "outputId": "5eeb7fdd-9ef3-4fe4-c42d-09981a505183"
      },
      "execution_count": null,
      "outputs": [
        {
          "output_type": "stream",
          "name": "stdout",
          "text": [
            "{'新北市': 670150, '臺中市': 535430, '高雄市': 424170, '臺南市': 392430, '桃園市': 330010, '臺北市': 322490, '彰化縣': 218090, '雲林縣': 195540, '屏東縣': 181480, '苗栗縣': 119500, '嘉義縣': 112190, '嘉義市': 105870, '宜蘭縣': 105830, '南投縣': 81680, '基隆市': 79840, '': 68040, '花蓮縣': 56570, '新竹縣': 51280, '新竹市': 45630, '臺東縣': 27720, '金門縣': 15510, '澎湖縣': 11350, '連江縣': 0}\n"
          ]
        }
      ]
    },
    {
      "cell_type": "code",
      "source": [
        "import sqlite3\n",
        "import datetime\n",
        "import requests\n",
        "import json\n",
        "\n",
        "conn = sqlite3.connect('example.db')\n",
        "c = conn.cursor()\n",
        "\n",
        "# 新增且清空資料表\n",
        "c.execute('''CREATE TABLE IF NOT EXISTS pharmacies\n",
        "             (city text, counts text, createdAt datetime)''')\n",
        "c.execute('''DELETE FROM pharmacies''')\n",
        "conn.commit()\n",
        "\n",
        "# 新增資料\n",
        "url = 'https://raw.githubusercontent.com/kiang/pharmacies/master/json/points.json'\n",
        "response = requests.get(url)\n",
        "d = response.text\n",
        "data = json.loads(d)\n",
        "\n",
        "med_count = {}\n",
        "for d in data['features']:\n",
        "    county = d['properties']['county']\n",
        "    if county not in med_count:\n",
        "      med_count[county] = 0\n",
        "    else:\n",
        "      med_count[county] += 1\n",
        "\n",
        "for d in med_count:\n",
        "  city = d\n",
        "  counts = med_count[d]\n",
        "  t = datetime.datetime.now()\n",
        "  print(f\"INSERT INTO stocks VALUES ('{city}', {counts}, '{t}')\")\n",
        "  c.execute(f\"INSERT INTO pharmacies VALUES ('{city}', {counts}, '{t}')\")\n",
        "  conn.commit()\n",
        "\n",
        "# 查詢資料\n",
        "c.execute(\"SELECT * FROM pharmacies\")\n",
        "print(c.fetchall())\n",
        "\n",
        "conn.commit()\n",
        "conn.close()"
      ],
      "metadata": {
        "colab": {
          "base_uri": "https://localhost:8080/"
        },
        "id": "v2ZtciHfNc1f",
        "outputId": "ed5a0bff-fe3b-424a-9733-27e34f8144f7"
      },
      "execution_count": 4,
      "outputs": [
        {
          "output_type": "stream",
          "name": "stdout",
          "text": [
            "INSERT INTO stocks VALUES ('臺北市', 338, '2024-06-23 04:11:29.551555')\n",
            "INSERT INTO stocks VALUES ('', 48, '2024-06-23 04:11:29.560190')\n",
            "INSERT INTO stocks VALUES ('高雄市', 421, '2024-06-23 04:11:29.569101')\n",
            "INSERT INTO stocks VALUES ('臺中市', 419, '2024-06-23 04:11:29.576049')\n",
            "INSERT INTO stocks VALUES ('臺南市', 270, '2024-06-23 04:11:29.582628')\n",
            "INSERT INTO stocks VALUES ('基隆市', 56, '2024-06-23 04:11:29.588973')\n",
            "INSERT INTO stocks VALUES ('新竹市', 38, '2024-06-23 04:11:29.595367')\n",
            "INSERT INTO stocks VALUES ('嘉義市', 66, '2024-06-23 04:11:29.601654')\n",
            "INSERT INTO stocks VALUES ('新北市', 500, '2024-06-23 04:11:29.608205')\n",
            "INSERT INTO stocks VALUES ('桃園市', 263, '2024-06-23 04:11:29.614715')\n",
            "INSERT INTO stocks VALUES ('新竹縣', 45, '2024-06-23 04:11:29.621198')\n",
            "INSERT INTO stocks VALUES ('宜蘭縣', 75, '2024-06-23 04:11:29.627495')\n",
            "INSERT INTO stocks VALUES ('苗栗縣', 55, '2024-06-23 04:11:29.633917')\n",
            "INSERT INTO stocks VALUES ('彰化縣', 178, '2024-06-23 04:11:29.640712')\n",
            "INSERT INTO stocks VALUES ('南投縣', 66, '2024-06-23 04:11:29.647469')\n",
            "INSERT INTO stocks VALUES ('雲林縣', 128, '2024-06-23 04:11:29.654194')\n",
            "INSERT INTO stocks VALUES ('嘉義縣', 83, '2024-06-23 04:11:29.660920')\n",
            "INSERT INTO stocks VALUES ('屏東縣', 139, '2024-06-23 04:11:29.667189')\n",
            "INSERT INTO stocks VALUES ('澎湖縣', 10, '2024-06-23 04:11:29.673611')\n",
            "INSERT INTO stocks VALUES ('花蓮縣', 45, '2024-06-23 04:11:29.679860')\n",
            "INSERT INTO stocks VALUES ('臺東縣', 22, '2024-06-23 04:11:29.686654')\n",
            "INSERT INTO stocks VALUES ('金門縣', 5, '2024-06-23 04:11:29.693027')\n",
            "INSERT INTO stocks VALUES ('連江縣', 0, '2024-06-23 04:11:29.699747')\n",
            "[('臺北市', '338', '2024-06-23 04:11:29.551555'), ('', '48', '2024-06-23 04:11:29.560190'), ('高雄市', '421', '2024-06-23 04:11:29.569101'), ('臺中市', '419', '2024-06-23 04:11:29.576049'), ('臺南市', '270', '2024-06-23 04:11:29.582628'), ('基隆市', '56', '2024-06-23 04:11:29.588973'), ('新竹市', '38', '2024-06-23 04:11:29.595367'), ('嘉義市', '66', '2024-06-23 04:11:29.601654'), ('新北市', '500', '2024-06-23 04:11:29.608205'), ('桃園市', '263', '2024-06-23 04:11:29.614715'), ('新竹縣', '45', '2024-06-23 04:11:29.621198'), ('宜蘭縣', '75', '2024-06-23 04:11:29.627495'), ('苗栗縣', '55', '2024-06-23 04:11:29.633917'), ('彰化縣', '178', '2024-06-23 04:11:29.640712'), ('南投縣', '66', '2024-06-23 04:11:29.647469'), ('雲林縣', '128', '2024-06-23 04:11:29.654194'), ('嘉義縣', '83', '2024-06-23 04:11:29.660920'), ('屏東縣', '139', '2024-06-23 04:11:29.667189'), ('澎湖縣', '10', '2024-06-23 04:11:29.673611'), ('花蓮縣', '45', '2024-06-23 04:11:29.679860'), ('臺東縣', '22', '2024-06-23 04:11:29.686654'), ('金門縣', '5', '2024-06-23 04:11:29.693027'), ('連江縣', '0', '2024-06-23 04:11:29.699747')]\n"
          ]
        }
      ]
    },
    {
      "cell_type": "code",
      "source": [
        "import sqlite3\n",
        "import datetime\n",
        "import requests\n",
        "import json\n",
        "\n",
        "conn = sqlite3.connect('example.db')\n",
        "c = conn.cursor()\n",
        "\n",
        "# 新增且清空資料表\n",
        "c.execute('''CREATE TABLE IF NOT EXISTS masks\n",
        "             (city text, counts text, createdAt datetime)''')\n",
        "c.execute('''DELETE FROM masks''')\n",
        "conn.commit()\n",
        "\n",
        "# 新增資料\n",
        "url = 'https://raw.githubusercontent.com/kiang/pharmacies/master/json/points.json'\n",
        "response = requests.get(url)\n",
        "d = response.text\n",
        "data = json.loads(d)\n",
        "\n",
        "mask_count = {}\n",
        "for d in data['features']:\n",
        "    county = d['properties']['county']\n",
        "    mask_adult = d['properties']['mask_adult']\n",
        "    if county not in mask_count:\n",
        "      mask_count[county] = 0\n",
        "    else:\n",
        "      mask_count[county] += mask_adult\n",
        "\n",
        "for d in mask_count:\n",
        "  city = d\n",
        "  counts = mask_count[d]\n",
        "  t = datetime.datetime.now()\n",
        "  c.execute(f\"INSERT INTO masks VALUES ('{city}', {counts}, '{t}')\")\n",
        "  conn.commit()\n",
        "\n",
        "# 查詢資料\n",
        "c.execute(\"SELECT * FROM masks\")\n",
        "print(c.fetchall())\n",
        "\n",
        "conn.commit()\n",
        "conn.close()"
      ],
      "metadata": {
        "colab": {
          "base_uri": "https://localhost:8080/"
        },
        "id": "i3Vpuf7xTOn3",
        "outputId": "3ca93a1d-88e8-4912-f009-5526675d61e7"
      },
      "execution_count": 5,
      "outputs": [
        {
          "output_type": "stream",
          "name": "stdout",
          "text": [
            "[('臺北市', '322490', '2024-06-23 04:21:31.643027'), ('', '68040', '2024-06-23 04:21:31.653185'), ('高雄市', '424170', '2024-06-23 04:21:31.659844'), ('臺中市', '535430', '2024-06-23 04:21:31.666062'), ('臺南市', '392430', '2024-06-23 04:21:31.672106'), ('基隆市', '79840', '2024-06-23 04:21:31.677982'), ('新竹市', '45630', '2024-06-23 04:21:31.684139'), ('嘉義市', '105870', '2024-06-23 04:21:31.690246'), ('新北市', '670150', '2024-06-23 04:21:31.696060'), ('桃園市', '330010', '2024-06-23 04:21:31.701892'), ('新竹縣', '51280', '2024-06-23 04:21:31.708150'), ('宜蘭縣', '105830', '2024-06-23 04:21:31.714292'), ('苗栗縣', '119500', '2024-06-23 04:21:31.720056'), ('彰化縣', '218090', '2024-06-23 04:21:31.725657'), ('南投縣', '81680', '2024-06-23 04:21:31.731921'), ('雲林縣', '195540', '2024-06-23 04:21:31.737418'), ('嘉義縣', '112190', '2024-06-23 04:21:31.742857'), ('屏東縣', '181480', '2024-06-23 04:21:31.749020'), ('澎湖縣', '11350', '2024-06-23 04:21:31.754713'), ('花蓮縣', '56570', '2024-06-23 04:21:31.760499'), ('臺東縣', '27720', '2024-06-23 04:21:31.766581'), ('金門縣', '15510', '2024-06-23 04:21:31.772317'), ('連江縣', '0', '2024-06-23 04:21:31.778059')]\n"
          ]
        }
      ]
    }
  ]
}